{
 "cells": [
  {
   "cell_type": "code",
   "execution_count": 1,
   "metadata": {
    "ExecuteTime": {
     "end_time": "2018-06-20T07:29:47.838817Z",
     "start_time": "2018-06-20T07:29:46.631072Z"
    }
   },
   "outputs": [
    {
     "name": "stdout",
     "output_type": "stream",
     "text": [
      "[0.9348914858096828, 0.9565943238731218, 0.9398998330550918]\n",
      "train:[3 4 5 6] | test:[0 1 2]\n",
      "train:[0 1 2 5 6] | test:[3 4]\n",
      "train:[0 1 2 3 4] | test:[5 6]\n"
     ]
    },
    {
     "data": {
      "text/plain": [
       "array([0.93489149, 0.95659432, 0.93989983])"
      ]
     },
     "execution_count": 1,
     "metadata": {},
     "output_type": "execute_result"
    }
   ],
   "source": [
    "from sklearn import datasets,svm\n",
    "digits = datasets.load_digits()    # load iris flower dataset\n",
    "x_digits = digits.data     # trian dataset\n",
    "y_digits = digits.target     # prediction dataset\n",
    "svc = svm.SVC(C=1,kernel = 'linear')    # build a linear regression model\n",
    "svc.fit(x_digits[:-100],y_digits[:-100]).score(x_digits[-100:],y_digits[-100:])        # get a prediction accuracy score and return 0.979999999\n",
    "\n",
    "# k-folds cross validation\n",
    "import numpy as np\n",
    "x_folds = np.array_split(x_digits,3)\n",
    "y_folds = np.array_split(y_digits,3)    # y_digits 数据是0到9的分类,len(y_folds)=3，每个子数据集599条数据向量\n",
    "scores = list()\n",
    "for k in range(3):\n",
    "    x_train = list(x_folds)\n",
    "   \n",
    "    x_test = x_train.pop(k)    # 排除一个折，剩余的作为测试数据集\n",
    "    x_train = np.concatenate(x_train)    # 将训练数据连接为一个array\n",
    "    y_train = list(y_folds)\n",
    "    y_test = y_train.pop(k)\n",
    "    y_train = np.concatenate(y_train)\n",
    "    svc = svm.SVC( C=1,kernel='linear')     \n",
    "    scores.append(svc.fit(x_train,y_train).score(x_test,y_test))    \n",
    "print(scores)\n",
    "\n",
    "# new and easier method to calculate \n",
    "#split method set indices for each iteration of the chosen CV strategy\n",
    "# for instance\n",
    "from sklearn.model_selection import KFold,cross_val_score\n",
    "X = [\"a\",\"a\",\"b\",\"c\",\"c\",\"d\",\"d\"]\n",
    "k_fold = KFold(n_splits=3)\n",
    "for train_indices,test_indices in k_fold.split(X):\n",
    "    print(\"train:%s | test:%s\" % (train_indices,test_indices))\n",
    "cross_val_score(svc,x_digits,y_digits,cv=k_fold,n_jobs=-1)\n",
    "# n_jobs=-1指计算调用CPU\n"
   ]
  },
  {
   "cell_type": "code",
   "execution_count": null,
   "metadata": {},
   "outputs": [],
   "source": []
  }
 ],
 "metadata": {
  "kernelspec": {
   "display_name": "Python 3",
   "language": "python",
   "name": "python3"
  },
  "language_info": {
   "codemirror_mode": {
    "name": "ipython",
    "version": 3
   },
   "file_extension": ".py",
   "mimetype": "text/x-python",
   "name": "python",
   "nbconvert_exporter": "python",
   "pygments_lexer": "ipython3",
   "version": "3.6.4"
  }
 },
 "nbformat": 4,
 "nbformat_minor": 2
}
