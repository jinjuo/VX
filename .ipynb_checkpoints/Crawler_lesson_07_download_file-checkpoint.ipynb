{
 "cells": [
  {
   "cell_type": "code",
   "execution_count": 5,
   "metadata": {},
   "outputs": [],
   "source": [
    "# 下载文件\n"
   ]
  },
  {
   "cell_type": "code",
   "execution_count": 9,
   "metadata": {},
   "outputs": [],
   "source": [
    "import os\n",
    "## 保存的文件夹\n",
    "os.makedirs('C:/Users/Administrator/Desktop/img', exist_ok=True)\n",
    "## 目标图片\n",
    "IMAGE_URL = \"https://img.alicdn.com/tfs/TB14OLJnYGYBuNjy0FoXXciBFXa-1920-666.jpg\""
   ]
  },
  {
   "cell_type": "code",
   "execution_count": 10,
   "metadata": {},
   "outputs": [
    {
     "data": {
      "text/plain": [
       "('C:/Users/Administrator/Desktop/img/image1.jpg',\n",
       " <http.client.HTTPMessage at 0x56bd7b8>)"
      ]
     },
     "execution_count": 10,
     "metadata": {},
     "output_type": "execute_result"
    }
   ],
   "source": [
    "## 下载方法1\n",
    "from urllib.request import urlretrieve\n",
    "urlretrieve(IMAGE_URL, 'C:/Users/Administrator/Desktop/img/image1.jpg')      # whole document"
   ]
  },
  {
   "cell_type": "code",
   "execution_count": 11,
   "metadata": {},
   "outputs": [],
   "source": [
    "## 下载方法2\n",
    "import requests\n",
    "r = requests.get(IMAGE_URL)\n",
    "with open('C:/Users/Administrator/Desktop/img/image2.jpg', 'wb') as f:\n",
    "    f.write(r.content)                      # whole document"
   ]
  },
  {
   "cell_type": "code",
   "execution_count": 13,
   "metadata": {},
   "outputs": [],
   "source": [
    "## 下载方法3 特别适合下载文件比较大的情况\n",
    "# r = requests.get(IMAGE_URL, stream=True)    # stream loading\n",
    "video_URL = \"http://103.40.220.110/67742DD452E3C7AE819793C99/03000A01005AE0A27C1A91808BD8A9176F86E2-CC30-4BE7-B23D-C7534EA771DB.mp4?ccode=0502&duration=73&expire=18000&psid=4a65604f136fedaabb9c631fc843ebbf&sp=&ups_client_netip=2d7c7fee&ups_ts=1524734480&ups_userid=&utid=OBJSE0BTvwUCAXll0F7r99oR&vid=XMzU2NDc5Njk3Ng%3D%3D&vkey=Bbf4feec0bd521e93a411fbe9fa92234a&s=2befbfbd46efbfbdefbf\"\n",
    "r = requests.get(video_URL, stream=True)    # stream loading\n",
    "with open('C:/Users/Administrator/Desktop/img/video_test.mp4', 'wb') as f:\n",
    "    for chunk in r.iter_content(chunk_size=32):\n",
    "        f.write(chunk)\n",
    "        \n",
    "        \n"
   ]
  },
  {
   "cell_type": "code",
   "execution_count": null,
   "metadata": {},
   "outputs": [],
   "source": []
  }
 ],
 "metadata": {
  "kernelspec": {
   "display_name": "Python 3",
   "language": "python",
   "name": "python3"
  },
  "language_info": {
   "codemirror_mode": {
    "name": "ipython",
    "version": 3
   },
   "file_extension": ".py",
   "mimetype": "text/x-python",
   "name": "python",
   "nbconvert_exporter": "python",
   "pygments_lexer": "ipython3",
   "version": "3.6.4"
  }
 },
 "nbformat": 4,
 "nbformat_minor": 2
}
