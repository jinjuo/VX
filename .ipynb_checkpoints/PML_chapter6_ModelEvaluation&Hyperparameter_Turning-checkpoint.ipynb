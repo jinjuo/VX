{
 "cells": [
  {
   "cell_type": "code",
   "execution_count": 1,
   "metadata": {},
   "outputs": [],
   "source": [
    "## 训练一个好的ML模型，需要模型评估和参数寻优"
   ]
  },
  {
   "cell_type": "code",
   "execution_count": 2,
   "metadata": {},
   "outputs": [],
   "source": [
    "## 通过管道创建工作流 pipelines(Sklearn中的pipeline类)"
   ]
  },
  {
   "cell_type": "code",
   "execution_count": 3,
   "metadata": {},
   "outputs": [],
   "source": [
    "### 读取Breast Cancer Wisconsin数据集\n",
    "### 然后把y转化成0，1"
   ]
  },
  {
   "cell_type": "code",
   "execution_count": 7,
   "metadata": {},
   "outputs": [],
   "source": [
    "import pandas as pd\n",
    "import numpy as np\n",
    "df = pd.read_csv('https://archive.ics.uci.edu/ml/machine-learning-databases/breast-cancer-wisconsin/wdbc.data', header = None)"
   ]
  },
  {
   "cell_type": "code",
   "execution_count": 8,
   "metadata": {},
   "outputs": [
    {
     "data": {
      "text/plain": [
       "array(['B', 'M'], dtype=object)"
      ]
     },
     "execution_count": 8,
     "metadata": {},
     "output_type": "execute_result"
    }
   ],
   "source": [
    "from sklearn.preprocessing import LabelEncoder\n",
    "X = df.iloc[:,2:].values\n",
    "y = df.loc[:,1].values\n",
    "np.unique(y)"
   ]
  },
  {
   "cell_type": "code",
   "execution_count": 9,
   "metadata": {},
   "outputs": [
    {
     "data": {
      "text/plain": [
       "array([0, 1])"
      ]
     },
     "execution_count": 9,
     "metadata": {},
     "output_type": "execute_result"
    }
   ],
   "source": [
    "le = LabelEncoder()\n",
    "y = le.fit_transform(y)\n",
    "np.unique(y)"
   ]
  },
  {
   "cell_type": "code",
   "execution_count": 10,
   "metadata": {},
   "outputs": [],
   "source": [
    "### 接着创建训练集和测试集\n"
   ]
  },
  {
   "cell_type": "code",
   "execution_count": 13,
   "metadata": {},
   "outputs": [],
   "source": [
    "from sklearn.model_selection import train_test_split\n",
    "X_train, X_test, y_train, y_test = train_test_split(X, y ,test_size=0.20, random_state = 1)"
   ]
  },
  {
   "cell_type": "code",
   "execution_count": 14,
   "metadata": {},
   "outputs": [],
   "source": [
    "### 将transformer和estimator放入同一个pipeline\n",
    "### 用pipeline把StandardScaler,PCA和LR连接起来"
   ]
  },
  {
   "cell_type": "code",
   "execution_count": 16,
   "metadata": {},
   "outputs": [],
   "source": [
    "from sklearn.preprocessing import StandardScaler\n",
    "from sklearn.decomposition import PCA\n",
    "from sklearn.linear_model import LogisticRegression\n",
    "from sklearn.pipeline import Pipeline"
   ]
  },
  {
   "cell_type": "code",
   "execution_count": 18,
   "metadata": {},
   "outputs": [
    {
     "data": {
      "text/plain": [
       "Pipeline(memory=None,\n",
       "     steps=[('scl', StandardScaler(copy=True, with_mean=True, with_std=True)), ('pca', PCA(copy=True, iterated_power='auto', n_components=2, random_state=None,\n",
       "  svd_solver='auto', tol=0.0, whiten=False)), ('clf', LogisticRegression(C=1.0, class_weight=None, dual=False, fit_intercept=True,\n",
       "          intercept_scaling=1, max_iter=100, multi_class='ovr', n_jobs=1,\n",
       "          penalty='l2', random_state=1, solver='liblinear', tol=0.0001,\n",
       "          verbose=0, warm_start=False))])"
      ]
     },
     "execution_count": 18,
     "metadata": {},
     "output_type": "execute_result"
    }
   ],
   "source": [
    "pipe_lr = Pipeline([('scl',StandardScaler()),\n",
    "                    ('pca', PCA(n_components = 2)),\n",
    "                    ('clf', LogisticRegression(random_state=1))])\n",
    "pipe_lr.fit(X_train, y_train)"
   ]
  },
  {
   "cell_type": "code",
   "execution_count": 19,
   "metadata": {},
   "outputs": [
    {
     "name": "stdout",
     "output_type": "stream",
     "text": [
      "Test Accuracy: 0.947\n"
     ]
    }
   ],
   "source": [
    "print('Test Accuracy: %.3f' %pipe_lr.score(X_test, y_test))"
   ]
  },
  {
   "cell_type": "code",
   "execution_count": 35,
   "metadata": {},
   "outputs": [],
   "source": [
    "## K折交叉验证评估模型性能\n",
    "### 交叉验证是如何评估模型泛化能力的方差"
   ]
  },
  {
   "cell_type": "code",
   "execution_count": 23,
   "metadata": {},
   "outputs": [],
   "source": [
    "import numpy as np\n",
    "from sklearn.cross_validation import StratifiedKFold"
   ]
  },
  {
   "cell_type": "code",
   "execution_count": 25,
   "metadata": {},
   "outputs": [],
   "source": [
    "kfold = StratifiedKFold(y = y_train,\n",
    "                       n_folds = 10,\n",
    "                       random_state = 1)\n",
    "scores = []"
   ]
  },
  {
   "cell_type": "code",
   "execution_count": 27,
   "metadata": {},
   "outputs": [
    {
     "name": "stdout",
     "output_type": "stream",
     "text": [
      "Fold:1, Class dist.:[256 153], Acc:0.891\n",
      "Fold:2, Class dist.:[256 153], Acc:0.978\n",
      "Fold:3, Class dist.:[256 153], Acc:0.978\n",
      "Fold:4, Class dist.:[256 153], Acc:0.913\n",
      "Fold:5, Class dist.:[256 153], Acc:0.935\n",
      "Fold:6, Class dist.:[257 153], Acc:0.978\n",
      "Fold:7, Class dist.:[257 153], Acc:0.933\n",
      "Fold:8, Class dist.:[257 153], Acc:0.956\n",
      "Fold:9, Class dist.:[257 153], Acc:0.978\n",
      "Fold:10, Class dist.:[257 153], Acc:0.956\n"
     ]
    }
   ],
   "source": [
    "for k, (train, test) in enumerate(kfold):\n",
    "    pipe_lr.fit(X_train[train], y_train[train])\n",
    "    score = pipe_lr.score(X_train[test], y_train[test])\n",
    "    scores.append(score)\n",
    "    print('Fold:%s, Class dist.:%s, Acc:%.3f' % (k+1, np.bincount(y_train[train]),score))"
   ]
  },
  {
   "cell_type": "code",
   "execution_count": 28,
   "metadata": {},
   "outputs": [
    {
     "name": "stdout",
     "output_type": "stream",
     "text": [
      "CV accuracy: 0.950 +/- 0.029\n"
     ]
    }
   ],
   "source": [
    "print('CV accuracy: %.3f +/- %.3f' % (np.mean(scores), np.std(scores)))"
   ]
  },
  {
   "cell_type": "code",
   "execution_count": 29,
   "metadata": {},
   "outputs": [],
   "source": [
    "### sklearn 还有一个直接得到交叉验证评估结果的方法crss_val_score"
   ]
  },
  {
   "cell_type": "code",
   "execution_count": 30,
   "metadata": {},
   "outputs": [],
   "source": [
    "from sklearn.cross_validation import cross_val_score\n",
    "scores = cross_val_score(estimator = pipe_lr,\n",
    "                        X = X_train,\n",
    "                        y = y_train,\n",
    "                        cv = 10,\n",
    "                        n_jobs = 1)"
   ]
  },
  {
   "cell_type": "code",
   "execution_count": 31,
   "metadata": {},
   "outputs": [
    {
     "name": "stdout",
     "output_type": "stream",
     "text": [
      "CV accuracy scores : [0.89130435 0.97826087 0.97826087 0.91304348 0.93478261 0.97777778\n",
      " 0.93333333 0.95555556 0.97777778 0.95555556]\n"
     ]
    }
   ],
   "source": [
    "print('CV accuracy scores : %s' %scores)"
   ]
  },
  {
   "cell_type": "code",
   "execution_count": 34,
   "metadata": {},
   "outputs": [
    {
     "name": "stdout",
     "output_type": "stream",
     "text": [
      "CV accuracy: 0.950 +/- 0.029\n"
     ]
    }
   ],
   "source": [
    "print('CV accuracy: %.3f +/- %.3f' %(np.mean(scores), np.std(scores)))"
   ]
  },
  {
   "cell_type": "code",
   "execution_count": 36,
   "metadata": {},
   "outputs": [],
   "source": [
    "## 使用学习曲线和验证曲线，调试算法 \n",
    "## Debugging algorithms with learning and validation curves"
   ]
  },
  {
   "cell_type": "code",
   "execution_count": 37,
   "metadata": {},
   "outputs": [],
   "source": [
    "### 认识学习曲线"
   ]
  },
  {
   "cell_type": "code",
   "execution_count": 41,
   "metadata": {},
   "outputs": [],
   "source": [
    "import matplotlib.pyplot as plt\n",
    "from sklearn.model_selection import learning_curve #sklearn.model_selection 代替sklearn.learning_curve"
   ]
  },
  {
   "cell_type": "code",
   "execution_count": 42,
   "metadata": {},
   "outputs": [],
   "source": [
    "pipe_lr = Pipeline([\n",
    "    ('scl', StandardScaler()),\n",
    "    ('clf', LogisticRegression(\n",
    "    penalty = 'l2', random_state=0))\n",
    "])\n"
   ]
  },
  {
   "cell_type": "code",
   "execution_count": 44,
   "metadata": {},
   "outputs": [],
   "source": [
    "train_sizes, train_scores, test_scores = learning_curve(estimator = pipe_lr,\n",
    "                                                      X = X_train,\n",
    "                                                      y = y_train,\n",
    "                                                      train_sizes = np.linspace(0.1, 1.0, 10),\n",
    "                                                      cv = 10,\n",
    "                                                      n_jobs = 1)"
   ]
  },
  {
   "cell_type": "code",
   "execution_count": 45,
   "metadata": {},
   "outputs": [],
   "source": [
    "train_mean = np.mean(train_scores, axis = 1)"
   ]
  },
  {
   "cell_type": "code",
   "execution_count": 46,
   "metadata": {},
   "outputs": [],
   "source": [
    "train_std = np.std(train_scores, axis = 1)"
   ]
  },
  {
   "cell_type": "code",
   "execution_count": 47,
   "metadata": {},
   "outputs": [],
   "source": [
    "test_mean = np.mean(test_scores, axis = 1)"
   ]
  },
  {
   "cell_type": "code",
   "execution_count": 48,
   "metadata": {},
   "outputs": [],
   "source": [
    "test_std = np.std(test_scores, axis = 1)"
   ]
  },
  {
   "cell_type": "code",
   "execution_count": 50,
   "metadata": {},
   "outputs": [
    {
     "data": {
      "image/png": "[encoded data removed]",
      "text/plain": [
       "<matplotlib.figure.Figure at 0x1a13224898>"
      ]
     },
     "metadata": {},
     "output_type": "display_data"
    }
   ],
   "source": [
    "plt.plot(train_sizes, train_mean,\n",
    "        color = 'blue', marker = 'o',\n",
    "        markersize = 5, \n",
    "        label = 'training accuacy')\n",
    "plt.fill_between(train_sizes,\n",
    "                train_mean + train_std,\n",
    "                train_mean - train_std,\n",
    "                alpha = 0.15, color = 'blue')\n",
    "plt.plot(train_sizes, test_mean,\n",
    "        color = 'green', linestyle = '--',marker = 's',\n",
    "        markersize = 5, \n",
    "        label = 'validation accuacy')\n",
    "plt.fill_between(train_sizes,\n",
    "                test_mean + test_std,\n",
    "                test_mean - test_std,\n",
    "                alpha = 0.15, color = 'green')\n",
    "plt.grid()\n",
    "plt.xlabel('Number of training samples')\n",
    "plt.ylabel('Accuracy')\n",
    "plt.legend(loc = 'lower right')\n",
    "plt.ylim([0.8, 1.0])\n",
    "plt.show()"
   ]
  },
  {
   "cell_type": "code",
   "execution_count": 52,
   "metadata": {},
   "outputs": [],
   "source": [
    "## 用验证曲线解决过拟合和欠拟合\n",
    "### 验证曲线与学习曲线，不同的是滑出的是不同参数下模型的准确率而不是不同训练集大小下的准确率\n",
    "### 实际上是找最有参数的过程"
   ]
  },
  {
   "cell_type": "code",
   "execution_count": 53,
   "metadata": {},
   "outputs": [],
   "source": [
    "from sklearn.model_selection import validation_curve"
   ]
  },
  {
   "cell_type": "code",
   "execution_count": 54,
   "metadata": {},
   "outputs": [],
   "source": [
    "param_range= [0.001, 0.01, 0.1, 1.0, 10.0, 100.0]"
   ]
  },
  {
   "cell_type": "code",
   "execution_count": 56,
   "metadata": {},
   "outputs": [],
   "source": [
    "train_scores, test_scores = validation_curve(estimator = pipe_lr,\n",
    "                                            X = X_train,\n",
    "                                            y = y_train,\n",
    "                                            param_name = 'clf__C',\n",
    "                                            param_range = param_range,\n",
    "                                            cv = 10)"
   ]
  },
  {
   "cell_type": "code",
   "execution_count": 57,
   "metadata": {},
   "outputs": [],
   "source": [
    "train_mean = np.mean(train_scores, axis = 1)\n",
    "train_std = np.std(train_scores, axis = 1)\n",
    "test_mean = np.mean(test_scores, axis = 1)\n",
    "test_std = np.std(test_scores, axis = 1)"
   ]
  },
  {
   "cell_type": "code",
   "execution_count": 58,
   "metadata": {},
   "outputs": [
    {
     "data": {
      "image/png": "[encoded data removed]",
      "text/plain": [
       "<matplotlib.figure.Figure at 0x1a13340908>"
      ]
     },
     "metadata": {},
     "output_type": "display_data"
    }
   ],
   "source": [
    "plt.plot(param_range, train_mean,\n",
    "        color = 'blue', marker = 'o',\n",
    "        markersize = 5, \n",
    "        label = 'training accuacy')\n",
    "plt.fill_between(param_range,\n",
    "                train_mean + train_std,\n",
    "                train_mean - train_std,\n",
    "                alpha = 0.15, color = 'blue')\n",
    "plt.plot(param_range, test_mean,\n",
    "        color = 'green', linestyle = '--',marker = 's',\n",
    "        markersize = 5, \n",
    "        label = 'validation accuacy')\n",
    "plt.fill_between(param_range,\n",
    "                test_mean + test_std,\n",
    "                test_mean - test_std,\n",
    "                alpha = 0.15, color = 'green')\n",
    "plt.grid()\n",
    "plt.xlabel('Parameter C')\n",
    "plt.ylabel('Accuracy')\n",
    "plt.legend(loc = 'lower right')\n",
    "plt.ylim([0.8, 1.0])\n",
    "plt.xscale('log')\n",
    "plt.show()"
   ]
  },
  {
   "cell_type": "code",
   "execution_count": 59,
   "metadata": {},
   "outputs": [],
   "source": [
    "## 通过网格搜索调参 Fine-tuning ML models via grid search"
   ]
  },
  {
   "cell_type": "code",
   "execution_count": 60,
   "metadata": {},
   "outputs": [],
   "source": [
    "### ML的参数有两种，一种是从训练集中学习到的参数，比如LR的权重参数；\n",
    "### 另一类是模型的超参数，就是需要人工设定的参数，比如正则项系数或决策树的深度"
   ]
  },
  {
   "cell_type": "code",
   "execution_count": 61,
   "metadata": {},
   "outputs": [],
   "source": [
    "### 网格搜索实际上就是暴力搜索而已。我们实现为每个参数设定一组值，然后穷举各种参数组合，找到最好的一组"
   ]
  },
  {
   "cell_type": "code",
   "execution_count": 65,
   "metadata": {},
   "outputs": [],
   "source": [
    "from sklearn.model_selection import GridSearchCV\n",
    "from sklearn.svm import SVC"
   ]
  },
  {
   "cell_type": "code",
   "execution_count": 68,
   "metadata": {},
   "outputs": [],
   "source": [
    "pipe_svc = Pipeline([('scl', StandardScaler()),\n",
    "                     ('clf', SVC(random_state = 1))])\n",
    "param_range = [0.0001, 0.001, 0.01, 0.1, 1.0, 10.0, 100.0, 1000.0]\n",
    "param_grid = [{\n",
    "    'clf__C': param_range,\n",
    "    'clf__kernel' : ['linear']},\n",
    "    {\n",
    "        'clf__C' : param_range,\n",
    "        'clf__gamma' : param_range,\n",
    "        'clf__kernel' : ['rbf']\n",
    "}]\n"
   ]
  },
  {
   "cell_type": "code",
   "execution_count": 69,
   "metadata": {},
   "outputs": [],
   "source": [
    "gs = GridSearchCV(estimator = pipe_svc,\n",
    "                 param_grid = param_grid,\n",
    "                 scoring = 'accuracy',\n",
    "                 cv = 10,\n",
    "                 n_jobs = -1)"
   ]
  },
  {
   "cell_type": "code",
   "execution_count": 70,
   "metadata": {},
   "outputs": [],
   "source": [
    "gs = gs.fit(X_train, y_train)"
   ]
  },
  {
   "cell_type": "code",
   "execution_count": 73,
   "metadata": {},
   "outputs": [
    {
     "name": "stdout",
     "output_type": "stream",
     "text": [
      "0.978021978021978\n"
     ]
    }
   ],
   "source": [
    "print(gs.best_score_)"
   ]
  },
  {
   "cell_type": "code",
   "execution_count": 74,
   "metadata": {},
   "outputs": [
    {
     "name": "stdout",
     "output_type": "stream",
     "text": [
      "{'clf__C': 0.1, 'clf__kernel': 'linear'}\n"
     ]
    }
   ],
   "source": [
    "print(gs.best_params_)"
   ]
  },
  {
   "cell_type": "code",
   "execution_count": 75,
   "metadata": {},
   "outputs": [],
   "source": [
    "clf = gs.best_estimator_ # 直接利用最优参数建模"
   ]
  },
  {
   "cell_type": "code",
   "execution_count": 76,
   "metadata": {},
   "outputs": [
    {
     "data": {
      "text/plain": [
       "Pipeline(memory=None,\n",
       "     steps=[('scl', StandardScaler(copy=True, with_mean=True, with_std=True)), ('clf', SVC(C=0.1, cache_size=200, class_weight=None, coef0=0.0,\n",
       "  decision_function_shape='ovr', degree=3, gamma='auto', kernel='linear',\n",
       "  max_iter=-1, probability=False, random_state=1, shrinking=True,\n",
       "  tol=0.001, verbose=False))])"
      ]
     },
     "execution_count": 76,
     "metadata": {},
     "output_type": "execute_result"
    }
   ],
   "source": [
    "clf.fit(X_train, y_train)"
   ]
  },
  {
   "cell_type": "code",
   "execution_count": 77,
   "metadata": {},
   "outputs": [
    {
     "name": "stdout",
     "output_type": "stream",
     "text": [
      "Test accuracy: 0.965\n"
     ]
    }
   ],
   "source": [
    "print('Test accuracy: %.3f' % clf.score(X_test, y_test))"
   ]
  },
  {
   "cell_type": "code",
   "execution_count": 78,
   "metadata": {},
   "outputs": [],
   "source": [
    "### GridSearchCV 虽然不错，但穷举过于耗时，sklearn中还实现了随机搜索\n",
    "### 使用RandomizedSearchCV类，随机采样出不同的参数组合"
   ]
  },
  {
   "cell_type": "code",
   "execution_count": 79,
   "metadata": {},
   "outputs": [],
   "source": [
    "## 通过嵌套交叉验证选择算法 algorithm selection with nested cross-validation\n",
    "### 在sklearn 中使用嵌套交叉验证："
   ]
  },
  {
   "cell_type": "code",
   "execution_count": 80,
   "metadata": {},
   "outputs": [],
   "source": [
    "gs = GridSearchCV(estimator = pipe_svc,\n",
    "                 param_grid = param_grid,\n",
    "                 scoring = 'accuracy',\n",
    "                 cv = 10,\n",
    "                 n_jobs = -1)"
   ]
  },
  {
   "cell_type": "code",
   "execution_count": 81,
   "metadata": {},
   "outputs": [],
   "source": [
    "scores = cross_val_score(gs, X, y, scoring = 'accuracy', cv = 5)"
   ]
  },
  {
   "cell_type": "code",
   "execution_count": 82,
   "metadata": {},
   "outputs": [
    {
     "name": "stdout",
     "output_type": "stream",
     "text": [
      "CV accuracy: 0.972 +/- 0.012\n"
     ]
    }
   ],
   "source": [
    "print('CV accuracy: %.3f +/- %.3f' %(np.mean(scores), np.std(scores)))"
   ]
  },
  {
   "cell_type": "code",
   "execution_count": 83,
   "metadata": {},
   "outputs": [],
   "source": [
    "### 使用嵌套交叉验证比较SVM和决策树分类器："
   ]
  },
  {
   "cell_type": "code",
   "execution_count": 84,
   "metadata": {},
   "outputs": [],
   "source": [
    "from sklearn.tree import DecisionTreeClassifier"
   ]
  },
  {
   "cell_type": "code",
   "execution_count": 87,
   "metadata": {},
   "outputs": [],
   "source": [
    "gs = GridSearchCV(estimator = DecisionTreeClassifier(random_state = 0),\n",
    "                 param_grid = [{\n",
    "                     'max_depth':[1,2,3,4,5,6,7,None]\n",
    "                 }],\n",
    "                  scoring = 'accuracy',\n",
    "                  cv = 5\n",
    "                 )\n",
    "scores = cross_val_score(gs,\n",
    "                        X_train,\n",
    "                        y_train,\n",
    "                        scoring = 'accuracy',\n",
    "                        cv = 5)"
   ]
  },
  {
   "cell_type": "code",
   "execution_count": 88,
   "metadata": {},
   "outputs": [
    {
     "name": "stdout",
     "output_type": "stream",
     "text": [
      "CV accuracy: 0.908 +/- 0.045\n"
     ]
    }
   ],
   "source": [
    "print('CV accuracy: %.3f +/- %.3f' %(np.mean(scores),np.std(scores)))"
   ]
  },
  {
   "cell_type": "code",
   "execution_count": 90,
   "metadata": {},
   "outputs": [],
   "source": [
    "### 除了accuracy这个指标，\n",
    "### 查准率（precision）、查全率(recall)，F1值（F1-score）\n",
    "### 都是不错的评价Model性能的指标"
   ]
  },
  {
   "cell_type": "code",
   "execution_count": 91,
   "metadata": {},
   "outputs": [],
   "source": [
    "## 混淆矩阵 confusion matrix,能够展示学习算法表现的矩阵\n",
    "## 混淆矩阵是一个平方矩阵，其中记录了一个分类器的TP(true positive)、TN(ture negative)、FP(false positive)和FN(false negative)"
   ]
  },
  {
   "cell_type": "code",
   "execution_count": 92,
   "metadata": {},
   "outputs": [],
   "source": [
    "### sklearn 中的confusion_matrix函数"
   ]
  },
  {
   "cell_type": "code",
   "execution_count": 93,
   "metadata": {},
   "outputs": [],
   "source": [
    "from sklearn.metrics import confusion_matrix\n",
    "pipe_svc.fit(X_train, y_train)\n",
    "y_pred = pipe_svc.predict(X_test)\n",
    "confmat = confusion_matrix(y_true = y_test, y_pred = y_pred)"
   ]
  },
  {
   "cell_type": "code",
   "execution_count": 94,
   "metadata": {},
   "outputs": [
    {
     "name": "stdout",
     "output_type": "stream",
     "text": [
      "[[71  1]\n",
      " [ 2 40]]\n"
     ]
    }
   ],
   "source": [
    "print(confmat)"
   ]
  },
  {
   "cell_type": "code",
   "execution_count": 97,
   "metadata": {},
   "outputs": [
    {
     "data": {
      "image/png": "[encoded data removed]",
      "text/plain": [
       "<matplotlib.figure.Figure at 0x1a134accc0>"
      ]
     },
     "metadata": {},
     "output_type": "display_data"
    }
   ],
   "source": [
    "fig, ax = plt.subplots(figsize = (2.5, 2.5))\n",
    "ax.matshow(confmat, cmap = plt.cm.Blues, alpha = 0.3)\n",
    "for i in range(confmat.shape[0]):\n",
    "    for j in range(confmat.shape[1]):\n",
    "        ax.text(x = j, y = i,\n",
    "               s = confmat[i,j],\n",
    "               va = 'center', ha = 'center')\n",
    "\n",
    "plt.xlabel('predicted label')\n",
    "plt.ylabel('true label')\n",
    "plt.show()"
   ]
  },
  {
   "cell_type": "code",
   "execution_count": null,
   "metadata": {},
   "outputs": [],
   "source": [
    "## 优化分类模型的查准率和查全率 optimizing the precision and recall of a classification model"
   ]
  }
 ],
 "metadata": {
  "kernelspec": {
   "display_name": "Python 3",
   "language": "python",
   "name": "python3"
  },
  "language_info": {
   "codemirror_mode": {
    "name": "ipython",
    "version": 3
   },
   "file_extension": ".py",
   "mimetype": "text/x-python",
   "name": "python",
   "nbconvert_exporter": "python",
   "pygments_lexer": "ipython3",
   "version": "3.6.4"
  }
 },
 "nbformat": 4,
 "nbformat_minor": 2
}
