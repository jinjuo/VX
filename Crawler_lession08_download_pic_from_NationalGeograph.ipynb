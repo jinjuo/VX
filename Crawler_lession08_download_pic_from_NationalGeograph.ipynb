{
 "cells": [
  {
   "cell_type": "code",
   "execution_count": null,
   "metadata": {},
   "outputs": [],
   "source": [
    "# Practice: download images from web"
   ]
  },
  {
   "cell_type": "code",
   "execution_count": 42,
   "metadata": {},
   "outputs": [
    {
     "name": "stdout",
     "output_type": "stream",
     "text": [
      "Saved 20180425055813117.jpg\n",
      "Saved 20180424103536193.jpg\n",
      "Saved 20180423113545345.jpg\n",
      "Saved 20180417061213808.jpg\n",
      "Saved 20180416051725993.jpg\n",
      "Saved 20180416121827701.jpg\n"
     ]
    }
   ],
   "source": [
    "## practice on NG\n",
    "from bs4 import BeautifulSoup\n",
    "import requests\n",
    "URL = \"http://www.nationalgeographic.com.cn/animals/\"\n",
    "html = requests.get(URL).text\n",
    "soup = BeautifulSoup(html, 'lxml')\n",
    "img_ul = soup.find_all('ul', {\"class\":\"img_list\"})\n",
    "\n",
    "import os\n",
    "os.makedirs('C:/Users/Administrator/Desktop/NG_img', exist_ok=True)\n",
    "# Find all picture urls and download them.\n",
    "for ul in img_ul:\n",
    "    imgs = ul.find_all('img')\n",
    "    for img in imgs:\n",
    "        url = img['src']\n",
    "        r = requests.get(url, stream=True)\n",
    "        image_name = url.split('/')[-1]\n",
    "        with open('C:/Users/Administrator/Desktop/NG_img/%s' % image_name, 'wb') as f:\n",
    "            for chunk in r.iter_content(chunk_size=128):\n",
    "                f.write(chunk)\n",
    "        print('Saved %s' % image_name)"
   ]
  },
  {
   "cell_type": "code",
   "execution_count": 55,
   "metadata": {},
   "outputs": [],
   "source": [
    "# Practice on NASA thumbnais image\n",
    "\n",
    "from bs4 import BeautifulSoup\n",
    "import requests\n",
    "URL = \"https://www.nasa.gov/multimedia/imagegallery/iotd.html\"\n",
    "html = requests.get(URL).text\n",
    "soup = BeautifulSoup(html, 'lxml')\n",
    "for k in soup.find_all('div', class_ = 'image'):\n",
    "    print(len(k))\n",
    "# print(len(img_div))\n",
    "\n",
    "# 可能是因为有ember"
   ]
  },
  {
   "cell_type": "code",
   "execution_count": 39,
   "metadata": {},
   "outputs": [
    {
     "name": "stdout",
     "output_type": "stream",
     "text": [
      "[]\n"
     ]
    }
   ],
   "source": [
    "# find list of image holder\n",
    "#html = requests.get(URL).text\n",
    "#soup = BeautifulSoup(html, 'lxml')\n",
    "#img_ul = soup.find_all('img', {\"class\": \"img-responsive\"})\n",
    "\n",
    "\n",
    "html = requests.get(URL).text\n",
    "soup = BeautifulSoup(html, 'lxml')\n",
    "# img_ul = soup.find_all('ul', {\"class\": \"img_list\"})\n",
    "# img_ul = soup.find_all('img', {\"class\": \"img-responsive\"})\n",
    "img_div = soup.find_all('div', {\"class\": \"image\"})\n",
    "print(img_ul)\n",
    "\n",
    "\n",
    "# for k in soup.find_all('div',class_='atcTit_more'):#,string='更多'\n",
    "#     print(k)"
   ]
  },
  {
   "cell_type": "code",
   "execution_count": 21,
   "metadata": {},
   "outputs": [],
   "source": [
    "# Create a folder for these pictures\n",
    "\n",
    "import os\n",
    "# os.makedirs('C:/Users/Administrator/Desktop/NG_img', exist_ok=True)\n",
    "os.makedirs('C:/Users/Administrator/Desktop/NASA_img', exist_ok=True)"
   ]
  },
  {
   "cell_type": "code",
   "execution_count": 23,
   "metadata": {},
   "outputs": [],
   "source": [
    "# Find all picture urls and download them.\n",
    "# for ul in img_ul:\n",
    "#     imgs = ul.find_all('img')\n",
    "#     for img in imgs:\n",
    "#         url = img['src']\n",
    "#         r = requests.get(url, stream=True)\n",
    "#         image_name = url.split('/')[-1]\n",
    "#         with open('C:/Users/Administrator/Desktop/NG_img/%s' % image_name, 'wb') as f:\n",
    "#             for chunk in r.iter_content(chunk_size=128):s\n",
    "#                 f.write(chunk)\n",
    "#         print('Saved %s' % image_name)\n",
    "\n",
    "## 这里没搞定，明天接着来弄\n",
    "for url in img_ul:\n",
    "    url =\"https://www.nasa.gov\"+ img['src']\n",
    "    r = requests.get(url, stream=True)\n",
    "    image_name = url.split('/')[-1]\n",
    "    with open('C:/Users/Administrator/Desktop/NG_img/%s' % image_name, 'wb') as f:\n",
    "        for chunk in r.iter_content(chunk_size=128):\n",
    "            f.write(chunk)\n",
    "    print('Saved %s' % image_name)"
   ]
  },
  {
   "cell_type": "code",
   "execution_count": null,
   "metadata": {},
   "outputs": [],
   "source": []
  }
 ],
 "metadata": {
  "kernelspec": {
   "display_name": "Python 3",
   "language": "python",
   "name": "python3"
  },
  "language_info": {
   "codemirror_mode": {
    "name": "ipython",
    "version": 3
   },
   "file_extension": ".py",
   "mimetype": "text/x-python",
   "name": "python",
   "nbconvert_exporter": "python",
   "pygments_lexer": "ipython3",
   "version": "3.6.4"
  }
 },
 "nbformat": 4,
 "nbformat_minor": 2
}
