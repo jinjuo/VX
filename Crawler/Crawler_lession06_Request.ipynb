{
 "cells": [
  {
   "cell_type": "code",
   "execution_count": 1,
   "metadata": {},
   "outputs": [],
   "source": [
    "# request 需要单独安装\n"
   ]
  },
  {
   "cell_type": "code",
   "execution_count": 2,
   "metadata": {},
   "outputs": [],
   "source": [
    "## requests: an alternative to urllib\n",
    "## requests has more functions to replace urlopen. Use request.get() to replace urlopen() \n",
    "## and pass some parameters to the webpage. The webbrowser is to open the new url and give you an visualization of this result.\n"
   ]
  },
  {
   "cell_type": "code",
   "execution_count": 4,
   "metadata": {},
   "outputs": [
    {
     "name": "stdout",
     "output_type": "stream",
     "text": [
      "http://www.baidu.com/s?wd=%E9%BD%90%E5%A4%A9%E5%A4%A7%E5%9C%A3%E5%AD%99%E6%82%9F%E7%A9%BA\n"
     ]
    }
   ],
   "source": [
    "import requests\n",
    "import webbrowser\n",
    "param = {\"wd\":\"齐天大圣孙悟空\"}\n",
    "r = requests.get(\"http://www.baidu.com/s\", params = param)\n",
    "print(r.url)\n",
    "# webbrowser.open(r.url) # 该语句会直接在浏览器中的打开链接"
   ]
  },
  {
   "cell_type": "code",
   "execution_count": 6,
   "metadata": {},
   "outputs": [
    {
     "name": "stdout",
     "output_type": "stream",
     "text": [
      "Hello there, 强 孙!\n"
     ]
    }
   ],
   "source": [
    "# 使用Post的方式来抓数据\n",
    "data = {'firstname': '强', 'lastname': '孙'}\n",
    "r = requests.post('http://pythonscraping.com/files/processing.php', data=data) # 这里的链接不是当前页面，而是post过去的link\n",
    "print(r.text)"
   ]
  },
  {
   "cell_type": "code",
   "execution_count": null,
   "metadata": {},
   "outputs": [],
   "source": [
    "# 上传图片\n",
    "file = {'uploadFile': open('./image.png', 'rb')}\n",
    "r = requests.post('http://pythonscraping.com/files/processing2.php', files=file)\n",
    "print(r.text)"
   ]
  },
  {
   "cell_type": "code",
   "execution_count": 11,
   "metadata": {},
   "outputs": [],
   "source": [
    "# 登录方法1：使用cookie\n",
    "payload = {'username': 'Morvan', 'password': 'password'}\n",
    "r = requests.post('http://pythonscraping.com/pages/cookies/welcome.php', data=payload)\n",
    "# print(r.cookies.get_dict())\n",
    "r = requests.get('http://pythonscraping.com/pages/cookies/profile.php', cookies=r.cookies)\n",
    "# print(r.text)"
   ]
  },
  {
   "cell_type": "code",
   "execution_count": 10,
   "metadata": {},
   "outputs": [],
   "source": [
    "# 登录方法2：session法\n",
    "session = requests.Session()\n",
    "payload = {'username': 'Morvan', 'password': 'password'}\n",
    "r = session.post('http://pythonscraping.com/pages/cookies/welcome.php', data=payload)\n",
    "# print(r.cookies.get_dict())\n",
    "r = session.get(\"http://pythonscraping.com/pages/cookies/profile.php\")\n",
    "# print(r.text)"
   ]
  },
  {
   "cell_type": "code",
   "execution_count": null,
   "metadata": {},
   "outputs": [],
   "source": []
  }
 ],
 "metadata": {
  "kernelspec": {
   "display_name": "Python 3",
   "language": "python",
   "name": "python3"
  },
  "language_info": {
   "codemirror_mode": {
    "name": "ipython",
    "version": 3
   },
   "file_extension": ".py",
   "mimetype": "text/x-python",
   "name": "python",
   "nbconvert_exporter": "python",
   "pygments_lexer": "ipython3",
   "version": "3.6.4"
  }
 },
 "nbformat": 4,
 "nbformat_minor": 2
}
